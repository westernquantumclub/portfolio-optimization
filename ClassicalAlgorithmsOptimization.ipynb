{
  "cells": [
    {
      "cell_type": "code",
      "execution_count": 2,
      "metadata": {
        "id": "ohL4h6S-xMOb"
      },
      "outputs": [],
      "source": [
        "# import libraries\n",
        "from pandas_datareader import data as web\n",
        "import pandas as pd\n",
        "import numpy as np\n",
        "import yfinance as yf\n",
        "from datetime import datetime\n",
        "import matplotlib.pyplot as plt\n",
        "plt.style.use('fivethirtyeight')"
      ]
    },
    {
      "cell_type": "code",
      "execution_count": 3,
      "metadata": {
        "id": "aTmF9WBVUPUE"
      },
      "outputs": [],
      "source": [
        "# list of FAANG stocks we'll be tracking, can be editeds\n",
        "assets = ['MSFT','AMZN', 'AAPL', 'NFLX', 'GOOG']"
      ]
    },
    {
      "cell_type": "code",
      "execution_count": 4,
      "metadata": {
        "id": "ZsZ0wLR1VNM1"
      },
      "outputs": [],
      "source": [
        "# starting date (10 years ago)\n",
        "start_date = '2012-01-01'\n",
        "\n",
        "# ending date (today)\n",
        "end_date = datetime.today().strftime('%Y-%m-%d')"
      ]
    },
    {
      "cell_type": "code",
      "execution_count": 5,
      "metadata": {
        "colab": {
          "base_uri": "https://localhost:8080/",
          "height": 606
        },
        "id": "HwrEPZR6VrC-",
        "outputId": "5343833a-3280-41bb-8ab0-8a003352d41e"
      },
      "outputs": [
        {
          "name": "stdout",
          "output_type": "stream",
          "text": [
            "[*********************100%***********************]  1 of 1 completed\n",
            "[*********************100%***********************]  1 of 1 completed\n",
            "[*********************100%***********************]  1 of 1 completed\n",
            "[*********************100%***********************]  1 of 1 completed\n",
            "[*********************100%***********************]  1 of 1 completed\n"
          ]
        },
        {
          "data": {
            "text/html": [
              "<div>\n",
              "<style scoped>\n",
              "    .dataframe tbody tr th:only-of-type {\n",
              "        vertical-align: middle;\n",
              "    }\n",
              "\n",
              "    .dataframe tbody tr th {\n",
              "        vertical-align: top;\n",
              "    }\n",
              "\n",
              "    .dataframe thead th {\n",
              "        text-align: right;\n",
              "    }\n",
              "</style>\n",
              "<table border=\"1\" class=\"dataframe\">\n",
              "  <thead>\n",
              "    <tr style=\"text-align: right;\">\n",
              "      <th></th>\n",
              "      <th>MSFT</th>\n",
              "      <th>AMZN</th>\n",
              "      <th>AAPL</th>\n",
              "      <th>NFLX</th>\n",
              "      <th>GOOG</th>\n",
              "    </tr>\n",
              "    <tr>\n",
              "      <th>Date</th>\n",
              "      <th></th>\n",
              "      <th></th>\n",
              "      <th></th>\n",
              "      <th></th>\n",
              "      <th></th>\n",
              "    </tr>\n",
              "  </thead>\n",
              "  <tbody>\n",
              "    <tr>\n",
              "      <th>2012-01-03</th>\n",
              "      <td>21.366358</td>\n",
              "      <td>8.951500</td>\n",
              "      <td>12.482926</td>\n",
              "      <td>10.320000</td>\n",
              "      <td>16.573130</td>\n",
              "    </tr>\n",
              "    <tr>\n",
              "      <th>2012-01-04</th>\n",
              "      <td>21.869190</td>\n",
              "      <td>8.875500</td>\n",
              "      <td>12.550013</td>\n",
              "      <td>11.492857</td>\n",
              "      <td>16.644611</td>\n",
              "    </tr>\n",
              "    <tr>\n",
              "      <th>2012-01-05</th>\n",
              "      <td>22.092667</td>\n",
              "      <td>8.880500</td>\n",
              "      <td>12.689339</td>\n",
              "      <td>11.328571</td>\n",
              "      <td>16.413727</td>\n",
              "    </tr>\n",
              "    <tr>\n",
              "      <th>2012-01-06</th>\n",
              "      <td>22.435867</td>\n",
              "      <td>9.130500</td>\n",
              "      <td>12.821992</td>\n",
              "      <td>12.327143</td>\n",
              "      <td>16.189817</td>\n",
              "    </tr>\n",
              "    <tr>\n",
              "      <th>2012-01-09</th>\n",
              "      <td>22.140566</td>\n",
              "      <td>8.928000</td>\n",
              "      <td>12.801654</td>\n",
              "      <td>14.025714</td>\n",
              "      <td>15.503389</td>\n",
              "    </tr>\n",
              "    <tr>\n",
              "      <th>...</th>\n",
              "      <td>...</td>\n",
              "      <td>...</td>\n",
              "      <td>...</td>\n",
              "      <td>...</td>\n",
              "      <td>...</td>\n",
              "    </tr>\n",
              "    <tr>\n",
              "      <th>2023-06-22</th>\n",
              "      <td>339.709991</td>\n",
              "      <td>130.149994</td>\n",
              "      <td>187.000000</td>\n",
              "      <td>422.480011</td>\n",
              "      <td>123.870003</td>\n",
              "    </tr>\n",
              "    <tr>\n",
              "      <th>2023-06-23</th>\n",
              "      <td>335.019989</td>\n",
              "      <td>129.330002</td>\n",
              "      <td>186.679993</td>\n",
              "      <td>424.019989</td>\n",
              "      <td>123.019997</td>\n",
              "    </tr>\n",
              "    <tr>\n",
              "      <th>2023-06-26</th>\n",
              "      <td>328.600006</td>\n",
              "      <td>127.330002</td>\n",
              "      <td>185.270004</td>\n",
              "      <td>415.940002</td>\n",
              "      <td>119.089996</td>\n",
              "    </tr>\n",
              "    <tr>\n",
              "      <th>2023-06-27</th>\n",
              "      <td>334.570007</td>\n",
              "      <td>129.179993</td>\n",
              "      <td>188.059998</td>\n",
              "      <td>417.079987</td>\n",
              "      <td>119.010002</td>\n",
              "    </tr>\n",
              "    <tr>\n",
              "      <th>2023-06-28</th>\n",
              "      <td>335.850006</td>\n",
              "      <td>129.039993</td>\n",
              "      <td>189.250000</td>\n",
              "      <td>429.839996</td>\n",
              "      <td>121.080002</td>\n",
              "    </tr>\n",
              "  </tbody>\n",
              "</table>\n",
              "<p>2890 rows × 5 columns</p>\n",
              "</div>"
            ],
            "text/plain": [
              "                  MSFT        AMZN        AAPL        NFLX        GOOG\n",
              "Date                                                                  \n",
              "2012-01-03   21.366358    8.951500   12.482926   10.320000   16.573130\n",
              "2012-01-04   21.869190    8.875500   12.550013   11.492857   16.644611\n",
              "2012-01-05   22.092667    8.880500   12.689339   11.328571   16.413727\n",
              "2012-01-06   22.435867    9.130500   12.821992   12.327143   16.189817\n",
              "2012-01-09   22.140566    8.928000   12.801654   14.025714   15.503389\n",
              "...                ...         ...         ...         ...         ...\n",
              "2023-06-22  339.709991  130.149994  187.000000  422.480011  123.870003\n",
              "2023-06-23  335.019989  129.330002  186.679993  424.019989  123.019997\n",
              "2023-06-26  328.600006  127.330002  185.270004  415.940002  119.089996\n",
              "2023-06-27  334.570007  129.179993  188.059998  417.079987  119.010002\n",
              "2023-06-28  335.850006  129.039993  189.250000  429.839996  121.080002\n",
              "\n",
              "[2890 rows x 5 columns]"
            ]
          },
          "execution_count": 5,
          "metadata": {},
          "output_type": "execute_result"
        }
      ],
      "source": [
        "# create an empty DataFrame with columns for each stock symbol\n",
        "df = pd.DataFrame()\n",
        "\n",
        "# retrieve and store the close prices into df\n",
        "for stock in assets:\n",
        "    data = yf.download(stock, start=start_date, end=end_date)\n",
        "    df[stock] = data['Adj Close']\n",
        "\n",
        "df\n"
      ]
    },
    {
      "cell_type": "code",
      "execution_count": 6,
      "metadata": {
        "colab": {
          "base_uri": "https://localhost:8080/",
          "height": 489
        },
        "id": "UQHIhH-ldvgC",
        "outputId": "2a3a53e9-2edc-4156-d3ef-77d98a58d233"
      },
      "outputs": [
        {
          "data": {
            "image/png": "[encoded data removed]",
            "text/plain": [
              "<Figure size 640x480 with 1 Axes>"
            ]
          },
          "metadata": {},
          "output_type": "display_data"
        }
      ],
      "source": [
        "# visualize stock data\n",
        "title = 'Portfolio Adj. Close Price History'\n",
        "\n",
        "# get stocks\n",
        "my_stocks = df\n",
        "\n",
        "# create and plot data\n",
        "for c in my_stocks.columns.values:\n",
        "  plt.plot(my_stocks[c], label = c)\n",
        "\n",
        "plt.title(title)\n",
        "plt.xlabel('Date', fontsize = 18)\n",
        "plt.ylabel('Adj. Price ($USD)', fontsize = 18)\n",
        "plt.legend(my_stocks.columns.values, loc = 'upper left')\n",
        "plt.show()"
      ]
    },
    {
      "cell_type": "code",
      "execution_count": 22,
      "metadata": {
        "colab": {
          "base_uri": "https://localhost:8080/",
          "height": 450
        },
        "id": "6nNVsjg-fFLJ",
        "outputId": "2900214f-eeee-4ee9-8d69-9b115057f22e"
      },
      "outputs": [
        {
          "data": {
            "text/html": [
              "<div>\n",
              "<style scoped>\n",
              "    .dataframe tbody tr th:only-of-type {\n",
              "        vertical-align: middle;\n",
              "    }\n",
              "\n",
              "    .dataframe tbody tr th {\n",
              "        vertical-align: top;\n",
              "    }\n",
              "\n",
              "    .dataframe thead th {\n",
              "        text-align: right;\n",
              "    }\n",
              "</style>\n",
              "<table border=\"1\" class=\"dataframe\">\n",
              "  <thead>\n",
              "    <tr style=\"text-align: right;\">\n",
              "      <th></th>\n",
              "      <th>MSFT</th>\n",
              "      <th>AMZN</th>\n",
              "      <th>AAPL</th>\n",
              "      <th>NFLX</th>\n",
              "      <th>GOOG</th>\n",
              "    </tr>\n",
              "    <tr>\n",
              "      <th>Date</th>\n",
              "      <th></th>\n",
              "      <th></th>\n",
              "      <th></th>\n",
              "      <th></th>\n",
              "      <th></th>\n",
              "    </tr>\n",
              "  </thead>\n",
              "  <tbody>\n",
              "    <tr>\n",
              "      <th>2012-01-03</th>\n",
              "      <td>NaN</td>\n",
              "      <td>NaN</td>\n",
              "      <td>NaN</td>\n",
              "      <td>NaN</td>\n",
              "      <td>NaN</td>\n",
              "    </tr>\n",
              "    <tr>\n",
              "      <th>2012-01-04</th>\n",
              "      <td>0.023534</td>\n",
              "      <td>-0.008490</td>\n",
              "      <td>0.005374</td>\n",
              "      <td>0.113649</td>\n",
              "      <td>0.004313</td>\n",
              "    </tr>\n",
              "    <tr>\n",
              "      <th>2012-01-05</th>\n",
              "      <td>0.010219</td>\n",
              "      <td>0.000563</td>\n",
              "      <td>0.011102</td>\n",
              "      <td>-0.014295</td>\n",
              "      <td>-0.013871</td>\n",
              "    </tr>\n",
              "    <tr>\n",
              "      <th>2012-01-06</th>\n",
              "      <td>0.015535</td>\n",
              "      <td>0.028152</td>\n",
              "      <td>0.010454</td>\n",
              "      <td>0.088146</td>\n",
              "      <td>-0.013642</td>\n",
              "    </tr>\n",
              "    <tr>\n",
              "      <th>2012-01-09</th>\n",
              "      <td>-0.013162</td>\n",
              "      <td>-0.022178</td>\n",
              "      <td>-0.001586</td>\n",
              "      <td>0.137791</td>\n",
              "      <td>-0.042399</td>\n",
              "    </tr>\n",
              "    <tr>\n",
              "      <th>...</th>\n",
              "      <td>...</td>\n",
              "      <td>...</td>\n",
              "      <td>...</td>\n",
              "      <td>...</td>\n",
              "      <td>...</td>\n",
              "    </tr>\n",
              "    <tr>\n",
              "      <th>2023-06-22</th>\n",
              "      <td>0.018437</td>\n",
              "      <td>0.042618</td>\n",
              "      <td>0.016525</td>\n",
              "      <td>-0.004641</td>\n",
              "      <td>0.021524</td>\n",
              "    </tr>\n",
              "    <tr>\n",
              "      <th>2023-06-23</th>\n",
              "      <td>-0.013806</td>\n",
              "      <td>-0.006300</td>\n",
              "      <td>-0.001711</td>\n",
              "      <td>0.003645</td>\n",
              "      <td>-0.006862</td>\n",
              "    </tr>\n",
              "    <tr>\n",
              "      <th>2023-06-26</th>\n",
              "      <td>-0.019163</td>\n",
              "      <td>-0.015464</td>\n",
              "      <td>-0.007553</td>\n",
              "      <td>-0.019056</td>\n",
              "      <td>-0.031946</td>\n",
              "    </tr>\n",
              "    <tr>\n",
              "      <th>2023-06-27</th>\n",
              "      <td>0.018168</td>\n",
              "      <td>0.014529</td>\n",
              "      <td>0.015059</td>\n",
              "      <td>0.002741</td>\n",
              "      <td>-0.000672</td>\n",
              "    </tr>\n",
              "    <tr>\n",
              "      <th>2023-06-28</th>\n",
              "      <td>0.003826</td>\n",
              "      <td>-0.001084</td>\n",
              "      <td>0.006328</td>\n",
              "      <td>0.030594</td>\n",
              "      <td>0.017393</td>\n",
              "    </tr>\n",
              "  </tbody>\n",
              "</table>\n",
              "<p>2890 rows × 5 columns</p>\n",
              "</div>"
            ],
            "text/plain": [
              "                MSFT      AMZN      AAPL      NFLX      GOOG\n",
              "Date                                                        \n",
              "2012-01-03       NaN       NaN       NaN       NaN       NaN\n",
              "2012-01-04  0.023534 -0.008490  0.005374  0.113649  0.004313\n",
              "2012-01-05  0.010219  0.000563  0.011102 -0.014295 -0.013871\n",
              "2012-01-06  0.015535  0.028152  0.010454  0.088146 -0.013642\n",
              "2012-01-09 -0.013162 -0.022178 -0.001586  0.137791 -0.042399\n",
              "...              ...       ...       ...       ...       ...\n",
              "2023-06-22  0.018437  0.042618  0.016525 -0.004641  0.021524\n",
              "2023-06-23 -0.013806 -0.006300 -0.001711  0.003645 -0.006862\n",
              "2023-06-26 -0.019163 -0.015464 -0.007553 -0.019056 -0.031946\n",
              "2023-06-27  0.018168  0.014529  0.015059  0.002741 -0.000672\n",
              "2023-06-28  0.003826 -0.001084  0.006328  0.030594  0.017393\n",
              "\n",
              "[2890 rows x 5 columns]"
            ]
          },
          "execution_count": 22,
          "metadata": {},
          "output_type": "execute_result"
        }
      ],
      "source": [
        "# display daily simple return\n",
        "returns = df.pct_change()\n",
        "returns"
      ]
    },
    {
      "cell_type": "code",
      "execution_count": 21,
      "metadata": {
        "colab": {
          "base_uri": "https://localhost:8080/",
          "height": 204
        },
        "id": "VYoYby6tfzcS",
        "outputId": "73851b72-97db-4e6d-f915-97eddac9f00e"
      },
      "outputs": [
        {
          "data": {
            "text/html": [
              "<div>\n",
              "<style scoped>\n",
              "    .dataframe tbody tr th:only-of-type {\n",
              "        vertical-align: middle;\n",
              "    }\n",
              "\n",
              "    .dataframe tbody tr th {\n",
              "        vertical-align: top;\n",
              "    }\n",
              "\n",
              "    .dataframe thead th {\n",
              "        text-align: right;\n",
              "    }\n",
              "</style>\n",
              "<table border=\"1\" class=\"dataframe\">\n",
              "  <thead>\n",
              "    <tr style=\"text-align: right;\">\n",
              "      <th></th>\n",
              "      <th>MSFT</th>\n",
              "      <th>AMZN</th>\n",
              "      <th>AAPL</th>\n",
              "      <th>NFLX</th>\n",
              "      <th>GOOG</th>\n",
              "    </tr>\n",
              "  </thead>\n",
              "  <tbody>\n",
              "    <tr>\n",
              "      <th>MSFT</th>\n",
              "      <td>0.070893</td>\n",
              "      <td>0.050094</td>\n",
              "      <td>0.045991</td>\n",
              "      <td>0.048601</td>\n",
              "      <td>0.047981</td>\n",
              "    </tr>\n",
              "    <tr>\n",
              "      <th>AMZN</th>\n",
              "      <td>0.050094</td>\n",
              "      <td>0.106729</td>\n",
              "      <td>0.045645</td>\n",
              "      <td>0.071783</td>\n",
              "      <td>0.053984</td>\n",
              "    </tr>\n",
              "    <tr>\n",
              "      <th>AAPL</th>\n",
              "      <td>0.045991</td>\n",
              "      <td>0.045645</td>\n",
              "      <td>0.083117</td>\n",
              "      <td>0.042983</td>\n",
              "      <td>0.043330</td>\n",
              "    </tr>\n",
              "    <tr>\n",
              "      <th>NFLX</th>\n",
              "      <td>0.048601</td>\n",
              "      <td>0.071783</td>\n",
              "      <td>0.042983</td>\n",
              "      <td>0.245326</td>\n",
              "      <td>0.052997</td>\n",
              "    </tr>\n",
              "    <tr>\n",
              "      <th>GOOG</th>\n",
              "      <td>0.047981</td>\n",
              "      <td>0.053984</td>\n",
              "      <td>0.043330</td>\n",
              "      <td>0.052997</td>\n",
              "      <td>0.073332</td>\n",
              "    </tr>\n",
              "  </tbody>\n",
              "</table>\n",
              "</div>"
            ],
            "text/plain": [
              "          MSFT      AMZN      AAPL      NFLX      GOOG\n",
              "MSFT  0.070893  0.050094  0.045991  0.048601  0.047981\n",
              "AMZN  0.050094  0.106729  0.045645  0.071783  0.053984\n",
              "AAPL  0.045991  0.045645  0.083117  0.042983  0.043330\n",
              "NFLX  0.048601  0.071783  0.042983  0.245326  0.052997\n",
              "GOOG  0.047981  0.053984  0.043330  0.052997  0.073332"
            ]
          },
          "execution_count": 21,
          "metadata": {},
          "output_type": "execute_result"
        }
      ],
      "source": [
        "# create and show the annualized covariance matrix\n",
        "cov_matrix_annual = returns.cov() * 252\n",
        "cov_matrix_annual"
      ]
    },
    {
      "cell_type": "code",
      "execution_count": 9,
      "metadata": {
        "id": "1RjH1R0qlppt"
      },
      "outputs": [],
      "source": [
        "# assign weights to the stocks\n",
        "weights = np.array([0.2, 0.2, 0.2, 0.2, 0.2])"
      ]
    },
    {
      "cell_type": "code",
      "execution_count": 20,
      "metadata": {
        "colab": {
          "base_uri": "https://localhost:8080/"
        },
        "id": "73M4TdY0m870",
        "outputId": "80bbd35d-30b2-415c-e72b-5092876902e9"
      },
      "outputs": [
        {
          "data": {
            "text/plain": [
              "0.0634474148647346"
            ]
          },
          "execution_count": 20,
          "metadata": {},
          "output_type": "execute_result"
        }
      ],
      "source": [
        "from scipy.linalg import sqrtm\n",
        "\n",
        "# handle missing values in covariance matrix\n",
        "cov_matrix_annual[np.isnan(cov_matrix_annual)] = 0\n",
        "\n",
        "# ensure positive definite covariance matrix\n",
        "epsilon = 1e-6\n",
        "cov_matrix_annual += epsilon * np.eye(cov_matrix_annual.shape[0])\n",
        "\n",
        "# calculate the portfolio variance\n",
        "port_variance = np.dot(weights.T, np.dot(cov_matrix_annual, weights))\n",
        "port_variance"
      ]
    },
    {
      "cell_type": "code",
      "execution_count": 11,
      "metadata": {
        "colab": {
          "base_uri": "https://localhost:8080/"
        },
        "id": "1FsTPKBKmYXl",
        "outputId": "029e9be2-efd4-476a-a753-157aee1536de"
      },
      "outputs": [
        {
          "data": {
            "text/plain": [
              "0.2518873058824811"
            ]
          },
          "execution_count": 11,
          "metadata": {},
          "output_type": "execute_result"
        }
      ],
      "source": [
        "# calculate portfolio volatility / standard deviation\n",
        "port_volatility = np.sqrt(port_variance)\n",
        "port_volatility"
      ]
    },
    {
      "cell_type": "code",
      "execution_count": 12,
      "metadata": {
        "colab": {
          "base_uri": "https://localhost:8080/"
        },
        "id": "Wom9C9D1o3mH",
        "outputId": "8adb6b33-d6a3-47e5-d489-98397187931b"
      },
      "outputs": [
        {
          "data": {
            "text/plain": [
              "0.29963042813985136"
            ]
          },
          "execution_count": 12,
          "metadata": {},
          "output_type": "execute_result"
        }
      ],
      "source": [
        "# calculate portfolio's simple annual return\n",
        "port_simple_annual_return = np.sum(returns.mean() * weights) * 252\n",
        "port_simple_annual_return"
      ]
    },
    {
      "cell_type": "code",
      "execution_count": 13,
      "metadata": {
        "colab": {
          "base_uri": "https://localhost:8080/"
        },
        "id": "bV30VOPrpR5_",
        "outputId": "c18e7a25-9ae9-45b9-e523-4d4ee3add80e"
      },
      "outputs": [
        {
          "name": "stdout",
          "output_type": "stream",
          "text": [
            "Expected annual return: 30.0%\n",
            "Annual volatility / risk: 25.0%\n",
            "Annual variance: 6.0%\n"
          ]
        }
      ],
      "source": [
        "# expected annual return, volatility (risk), and variance\n",
        "percent_var = str(round(port_variance, 2) * 100) + '%'\n",
        "percent_vols = str(round(port_volatility, 2) * 100) + '%'\n",
        "percent_ret = str(round(port_simple_annual_return, 2) * 100) + '%'\n",
        "\n",
        "print('Expected annual return: ' + percent_ret)\n",
        "print('Annual volatility / risk: ' + percent_vols)\n",
        "print('Annual variance: ' + percent_var)"
      ]
    },
    {
      "cell_type": "code",
      "execution_count": 58,
      "metadata": {
        "colab": {
          "base_uri": "https://localhost:8080/"
        },
        "id": "9E1nlHOWqaI8",
        "outputId": "1a5a5ee3-e9b9-4306-8759-d91c9389f602"
      },
      "outputs": [
        {
          "name": "stdout",
          "output_type": "stream",
          "text": [
            "Collecting PyPortfolioOpt\n",
            "  Downloading pyportfolioopt-1.5.5-py3-none-any.whl (61 kB)\n",
            "\u001b[?25l     \u001b[90m━━━━━━━━━━━━━━━━━━━━━━━━━━━━━━━━━━━━━━━━\u001b[0m \u001b[32m0.0/61.9 kB\u001b[0m \u001b[31m?\u001b[0m eta \u001b[36m-:--:--\u001b[0m\r\u001b[2K     \u001b[90m━━━━━━━━━━━━━━━━━━━━━━━━━━━━━━━━━━━━━━━━\u001b[0m \u001b[32m61.9/61.9 kB\u001b[0m \u001b[31m3.4 MB/s\u001b[0m eta \u001b[36m0:00:00\u001b[0m\n",
            "\u001b[?25hRequirement already satisfied: cvxpy<2.0.0,>=1.1.19 in /usr/local/lib/python3.10/dist-packages (from PyPortfolioOpt) (1.3.1)\n",
            "Requirement already satisfied: numpy<2.0.0,>=1.22.4 in /usr/local/lib/python3.10/dist-packages (from PyPortfolioOpt) (1.22.4)\n",
            "Requirement already satisfied: pandas>=0.19 in /usr/local/lib/python3.10/dist-packages (from PyPortfolioOpt) (1.5.3)\n",
            "Requirement already satisfied: scipy<2.0,>=1.3 in /usr/local/lib/python3.10/dist-packages (from PyPortfolioOpt) (1.10.1)\n",
            "Requirement already satisfied: osqp>=0.4.1 in /usr/local/lib/python3.10/dist-packages (from cvxpy<2.0.0,>=1.1.19->PyPortfolioOpt) (0.6.2.post8)\n",
            "Requirement already satisfied: ecos>=2 in /usr/local/lib/python3.10/dist-packages (from cvxpy<2.0.0,>=1.1.19->PyPortfolioOpt) (2.0.12)\n",
            "Requirement already satisfied: scs>=1.1.6 in /usr/local/lib/python3.10/dist-packages (from cvxpy<2.0.0,>=1.1.19->PyPortfolioOpt) (3.2.3)\n",
            "Requirement already satisfied: setuptools>65.5.1 in /usr/local/lib/python3.10/dist-packages (from cvxpy<2.0.0,>=1.1.19->PyPortfolioOpt) (67.7.2)\n",
            "Requirement already satisfied: python-dateutil>=2.8.1 in /usr/local/lib/python3.10/dist-packages (from pandas>=0.19->PyPortfolioOpt) (2.8.2)\n",
            "Requirement already satisfied: pytz>=2020.1 in /usr/local/lib/python3.10/dist-packages (from pandas>=0.19->PyPortfolioOpt) (2022.7.1)\n",
            "Requirement already satisfied: qdldl in /usr/local/lib/python3.10/dist-packages (from osqp>=0.4.1->cvxpy<2.0.0,>=1.1.19->PyPortfolioOpt) (0.1.7)\n",
            "Requirement already satisfied: six>=1.5 in /usr/local/lib/python3.10/dist-packages (from python-dateutil>=2.8.1->pandas>=0.19->PyPortfolioOpt) (1.16.0)\n",
            "Installing collected packages: PyPortfolioOpt\n",
            "Successfully installed PyPortfolioOpt-1.5.5\n"
          ]
        }
      ],
      "source": [
        "pip install PyPortfolioOpt"
      ]
    },
    {
      "cell_type": "code",
      "execution_count": 26,
      "metadata": {
        "id": "0ZeKy4-BquuB"
      },
      "outputs": [],
      "source": [
        "# import portfolio optimization libraries\n",
        "from pypfopt.efficient_frontier import EfficientFrontier\n",
        "from pypfopt import risk_models\n",
        "from pypfopt import expected_returns\n",
        "from sklearn import covariance"
      ]
    },
    {
      "cell_type": "code",
      "execution_count": 27,
      "metadata": {
        "colab": {
          "base_uri": "https://localhost:8080/"
        },
        "id": "xjMvbM2QrIEb",
        "outputId": "c49e3436-634a-4ae3-a2e8-adbe749438dc"
      },
      "outputs": [
        {
          "name": "stdout",
          "output_type": "stream",
          "text": [
            "OrderedDict([('MSFT', 0.4436), ('AMZN', 0.06036), ('AAPL', 0.31262), ('NFLX', 0.18342), ('GOOG', 0.0)])\n",
            "Expected annual return: 29.0%\n",
            "Annual volatility: 24.9%\n",
            "Sharpe Ratio: 1.09\n"
          ]
        },
        {
          "data": {
            "text/plain": [
              "(0.29049317573632877, 0.24897481354631665, 1.0864278674758765)"
            ]
          },
          "execution_count": 27,
          "metadata": {},
          "output_type": "execute_result"
        }
      ],
      "source": [
        "# calculate expected returns and covariance matrix\n",
        "mu = expected_returns.mean_historical_return(df)\n",
        "S = risk_models.CovarianceShrinkage(df).ledoit_wolf()\n",
        "\n",
        "# optimize for max sharpe ratio\n",
        "ef = EfficientFrontier(mu, S)\n",
        "weights = ef.max_sharpe()\n",
        "cleaned_weights = ef.clean_weights()\n",
        "print(cleaned_weights)\n",
        "ef.portfolio_performance(verbose=True)"
      ]
    },
    {
      "cell_type": "code",
      "execution_count": 63,
      "metadata": {
        "colab": {
          "base_uri": "https://localhost:8080/"
        },
        "id": "hgVEOBBUuKa0",
        "outputId": "b3f8fafe-f518-4131-f51e-dd5096770647"
      },
      "outputs": [
        {
          "data": {
            "text/plain": [
              "1.0"
            ]
          },
          "execution_count": 63,
          "metadata": {},
          "output_type": "execute_result"
        }
      ],
      "source": [
        "0.11466 + 0.56261 + 0.3151 + 0.00763"
      ]
    }
  ],
  "metadata": {
    "colab": {
      "provenance": []
    },
    "kernelspec": {
      "display_name": "Python 3",
      "name": "python3"
    },
    "language_info": {
      "codemirror_mode": {
        "name": "ipython",
        "version": 3
      },
      "file_extension": ".py",
      "mimetype": "text/x-python",
      "name": "python",
      "nbconvert_exporter": "python",
      "pygments_lexer": "ipython3",
      "version": "3.10.7"
    }
  },
  "nbformat": 4,
  "nbformat_minor": 0
}
